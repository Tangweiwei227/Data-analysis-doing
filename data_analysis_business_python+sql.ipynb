{
 "cells": [
  {
   "cell_type": "markdown",
   "metadata": {},
   "source": [
    "## xi\n",
    "项目对京东电商运营数据集进行指标分析以了解用户购物行为特征，为运营决策提供支持建议。 本文采用了MySQL和Python两种代码进行指标计算以适应不同的数据分析开发环境。"
   ]
  }
 ],
 "metadata": {
  "language_info": {
   "name": "python"
  }
 },
 "nbformat": 4,
 "nbformat_minor": 2
}
