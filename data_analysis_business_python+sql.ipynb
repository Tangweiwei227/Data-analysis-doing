{
 "cells": [
  {
   "cell_type": "markdown",
   "metadata": {},
   "source": [
    "### 一、项目背景\n",
    "项目对京东电商运营数据集进行指标分析以了解用户购物行为特征，为运营决策提供支持建议。 本文采用了MySQL和Python两种代码进行指标计算以适应不同的数据分析开发环境。"
   ]
  },
  {
   "cell_type": "markdown",
   "metadata": {},
   "source": [
    "### 数据集介绍\n",
    "本数据集为京东竞赛数据集，详细介绍请访问链接： jdata.jd.com/html/detail… 。 数据集共有五个文件，包含了'2018-02-01'至'2018-04-15'之间的用户数据，数据已进行了脱敏处理，本文使用了其中的行为数据表，表中共有五个字段，各字段含义如下图所示\n",
    "行为数据表（jdata_action）字段说明\n",
    "\n",
    "\n",
    "作者：freedom_lime\n",
    "链接：https://juejin.cn/post/6844904202590748679\n",
    "来源：稀土掘金\n",
    "著作权归作者所有。商业转载请联系作者获得授权，非商业转载请注明出处。"
   ]
  }
 ],
 "metadata": {
  "language_info": {
   "name": "python"
  }
 },
 "nbformat": 4,
 "nbformat_minor": 2
}
